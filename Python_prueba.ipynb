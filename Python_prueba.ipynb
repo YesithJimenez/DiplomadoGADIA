{
  "cells": [
    {
      "cell_type": "markdown",
      "metadata": {
        "id": "view-in-github",
        "colab_type": "text"
      },
      "source": [
        "<a href=\"https://colab.research.google.com/github/YesithJimenez/DiplomadoGADIA/blob/main/Python_prueba.ipynb\" target=\"_parent\"><img src=\"https://colab.research.google.com/assets/colab-badge.svg\" alt=\"Open In Colab\"/></a>"
      ]
    },
    {
      "cell_type": "markdown",
      "source": [
        "![images.png](data:image/png;base64,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)\n",
        "\n",
        "\n",
        "**PRUEBA DE ENTREVISTA**\n",
        "\n",
        "CURSO DE PYTHON\n",
        "\n",
        "DIRECCION DE EDUCACIÓN CONTINUA\n",
        "\n",
        "FUNDACION UNIVERSITARIA CAFAM\n",
        "\n",
        "DOCENTE: NICOLAS MOJICA GOMEZ\n",
        "\n",
        "ESTUDIANTE: **Yesith Aguas Jimenez**\n",
        "\n",
        "\n",
        "---"
      ],
      "metadata": {
        "id": "Sb5I55A6yJOL"
      },
      "id": "Sb5I55A6yJOL"
    },
    {
      "cell_type": "markdown",
      "id": "a038a053",
      "metadata": {
        "id": "a038a053"
      },
      "source": [
        "Este examen evalúa conceptos fundamentales de Python. Tienes 2 horas y 30 minutos para completarlo. Por favor, responde cada pregunta en las celdas indicadas.\n",
        "\n",
        "**Instrucciones:**\n",
        "1. Lee cada pregunta cuidadosamente.\n",
        "2. Responde en la celda proporcionada debajo de cada pregunta.\n",
        "3. Guarda tu progreso frecuentemente.\n",
        "\n",
        "¡Buena suerte!\n"
      ]
    },
    {
      "cell_type": "markdown",
      "id": "d6b0e321",
      "metadata": {
        "id": "d6b0e321"
      },
      "source": [
        "## Sección 1: Teoría\n",
        "\n",
        "Responde las siguientes preguntas teóricas:"
      ]
    },
    {
      "cell_type": "markdown",
      "id": "2589c157",
      "metadata": {
        "id": "2589c157"
      },
      "source": [
        "### 1. Variables y Tipos de Datos\n",
        "\n",
        "a. ¿Cuál es la diferencia entre una lista y una tupla en Python? Proporciona ejemplos.\n",
        "\n",
        "b. ¿Qué significa que una variable sea mutable? Proporciona un ejemplo de una variable mutable."
      ]
    },
    {
      "cell_type": "markdown",
      "source": [
        "# A) Las listas son modificables (mutable)\n",
        "# Mi lista = [1, 2, 3, 4, 5]\n",
        "# Las tuplas no se pueden modificar (inmutable)\n",
        "# Mi lista = (1, 2, 3, 4, 5,)\n",
        "\n",
        "# B) Una lista miltiple es aquellalista que despues de ser creada se puede modificada\n",
        "# Se Crear una lista (mutable)\n",
        "# mi_lista = [1, 2, 3]\n",
        "\n",
        "# Modificaremos un elemento de la lista en la posicion 1\n",
        "# mi_lista[1] = 10  \n",
        "# print(mi_lista)  # [1, 10, 3]"
      ],
      "metadata": {
        "id": "vk1xZjBrY7rs"
      },
      "id": "vk1xZjBrY7rs"
    },
    {
      "cell_type": "markdown",
      "id": "ab8d6323",
      "metadata": {
        "id": "ab8d6323"
      },
      "source": [
        "### 3. Estructuras de Control\n",
        "\n",
        "a. ¿Cuál es la función de `elif` en Python? Proporciona un ejemplo.\n",
        "\n",
        "b. ¿Cuál es la diferencia entre un bucle `for` y un bucle `while`?"
      ]
    },
    {
      "cell_type": "markdown",
      "source": [
        "# A) La funcion elif es un condional que permite manejar multiples condiciones dentro de un if\n",
        "# ejemplo\n",
        "# queremos saber si un estudiantes es aprobado No aprobado<60, >=900 clasificacion a, >=80 clasificacion C, otros clasificacion c\n",
        "\n",
        "#Nota = int(input(\"Ingresa su nota\"))\n",
        "#if Nota >60:\n",
        "#  if Nota >=90 :\n",
        "#    print(\"clasificacion A\")\n",
        "#  elif Nota >=80:\n",
        "#    print(\"clasificacion B\")\n",
        "#  else:\n",
        "#    print(\"clasificacion C\")\n",
        "#else :\n",
        "#  print(\"No aprobado\")\n",
        "\n",
        "# B)\n",
        "# el for se usa cuando queremos que un bucle se ejecute las veses queremos o sabesmos que se ejecuten. que puede recorrer una lista.\n",
        "# el while es un bucle que se ejecuta hasta que el usuario ingrese un valor correcto, y se ejecutara las veses que sea necesario, hasta que llegue a un valor verdadero.\n"
      ],
      "metadata": {
        "id": "QUBZVl8Zc6Yf"
      },
      "id": "QUBZVl8Zc6Yf"
    },
    {
      "cell_type": "markdown",
      "id": "49e5f7d3",
      "metadata": {
        "id": "49e5f7d3"
      },
      "source": [
        "## Sección 2: Práctica\n",
        "\n",
        "Completa los siguientes ejercicios de programación."
      ]
    },
    {
      "cell_type": "markdown",
      "id": "778c4807",
      "metadata": {
        "id": "778c4807"
      },
      "source": [
        "### 1. Variables y Operadores\n",
        "\n",
        "Escribe un programa que solicite dos números al usuario y realice las operaciones de suma, resta, multiplicación, división y módulo.\n",
        "\n",
        "**Espacio para tu código:**"
      ]
    },
    {
      "cell_type": "code",
      "execution_count": 5,
      "id": "e7a63e93",
      "metadata": {
        "id": "e7a63e93",
        "colab": {
          "base_uri": "https://localhost:8080/"
        },
        "outputId": "50fca818-c95d-42b3-f63a-e5afbb8cb45f"
      },
      "outputs": [
        {
          "output_type": "stream",
          "name": "stdout",
          "text": [
            "Por favor ingresa un numero entero3\n",
            "Por favor ingresa otro numero entero7\n",
            "Resultados:\n",
            "Suma: 10\n",
            "Resta: -4\n",
            "Multiplicación: 21\n",
            "División: 0.42857142857142855\n",
            "Módulo: 3\n",
            "Potencia: 2187\n"
          ]
        }
      ],
      "source": [
        "#se pide ingresar dos numeros y que muestres los resultados de las operacionas basicas de matematicas\n",
        "Numero1=int(input(\"Por favor ingresa un numero entero\"))\n",
        "Numero2=int(input(\"Por favor ingresa otro numero entero\"))\n",
        "suma = Numero1 + Numero2\n",
        "resta = Numero1 - Numero2\n",
        "multiplicacion = Numero1 * Numero2\n",
        "division = Numero1 / Numero2 if Numero2 != 0 else \"No se puede dividir por cero\"\n",
        "modulo = Numero1 % Numero2 if Numero2 != 0 else \"No se puede calcular el módulo con divisor cero\"\n",
        "potencia = Numero1 ** Numero2\n",
        "\n",
        "# imprimimos los resultados\n",
        "print(\"Resultados:\")\n",
        "print(f\"Suma: {suma}\")\n",
        "print(f\"Resta: {resta}\")\n",
        "print(f\"Multiplicación: {multiplicacion}\")\n",
        "print(f\"División: {division}\")\n",
        "print(f\"Módulo: {modulo}\")\n",
        "print(f\"Potencia: {potencia}\")"
      ]
    },
    {
      "cell_type": "markdown",
      "id": "56fe1d81",
      "metadata": {
        "id": "56fe1d81"
      },
      "source": [
        "### 2. Estructuras de Datos\n",
        "\n",
        "Escribe un programa que solicite al usuario 5 palabras, las almacene en una lista, ordene la lista alfabéticamente, la convierta en una tupla e imprima la longitud de la tupla.\n",
        "\n",
        "**Espacio para tu código:**"
      ]
    },
    {
      "cell_type": "code",
      "execution_count": 10,
      "id": "8772080c",
      "metadata": {
        "id": "8772080c",
        "colab": {
          "base_uri": "https://localhost:8080/"
        },
        "outputId": "4abe3d57-da46-4336-c0ee-50cc9ed33b89"
      },
      "outputs": [
        {
          "output_type": "stream",
          "name": "stdout",
          "text": [
            "Ingrese la palabra 1: amarillo\n",
            "Ingrese la palabra 2: rojjo\n",
            "Ingrese la palabra 3: axul\n",
            "Ingrese la palabra 4: morado\n",
            "Ingrese la palabra 5: caje\n",
            "La tupla ordenada es: ('amistad', 'amistad', 'amistad', 'amistad', 'amistad')\n",
            "La longitud de la tupla: 5\n"
          ]
        }
      ],
      "source": [
        "# Solicitaremos 5 palabras  y almacenaremos en una lista\n",
        "palabras = []\n",
        "for i in range(5):\n",
        "    Palabra = input(f\"Ingrese la palabra {i+1}: \")\n",
        "    palabras.append(palabra)\n",
        "\n",
        "# Ordenaremos la lista alfabéticamente con sort\n",
        "palabras.sort()\n",
        "\n",
        "# Convertiremos la lista en una tupla\n",
        "tupla_palabras = tuple(palabras)\n",
        "\n",
        "# Imprimir la tupla y su longitud\n",
        "print(\"La tupla ordenada es:\", tupla_palabras)\n",
        "print(\"La longitud de la tupla:\", len(tupla_palabras))\n"
      ]
    },
    {
      "cell_type": "markdown",
      "id": "82b32407",
      "metadata": {
        "id": "82b32407"
      },
      "source": [
        "### 3. Condicionales\n",
        "\n",
        "Escribe un programa que solicite al usuario su edad y determine si es menor de edad, mayor de edad o adulto mayor.\n",
        "\n",
        "**Espacio para tu código:**"
      ]
    },
    {
      "cell_type": "code",
      "execution_count": 14,
      "id": "a161d90c",
      "metadata": {
        "id": "a161d90c",
        "colab": {
          "base_uri": "https://localhost:8080/"
        },
        "outputId": "1c712857-b91e-47c9-e31b-8e53f5900d70"
      },
      "outputs": [
        {
          "output_type": "stream",
          "name": "stdout",
          "text": [
            "Ingrese su edad: 17\n",
            "Eres menor de edad.\n"
          ]
        }
      ],
      "source": [
        "# Solicitaremos tu edad para determinar si eres o no mayor de edad\n",
        "edad = int(input(\"Ingrese su edad: \"))\n",
        "\n",
        "# Determinaremos la edad segun los sigientes rangos\n",
        "if edad < 18:\n",
        "    print(\"Eres menor de edad.\")\n",
        "elif edad >= 18:\n",
        "    print(\"Eres mayor de edad.\")\n",
        "else:\n",
        "    print(\"Eres un adulto mayor.\")\n"
      ]
    },
    {
      "cell_type": "markdown",
      "id": "22a06bd2",
      "metadata": {
        "id": "22a06bd2"
      },
      "source": [
        "### 4. Funciones\n",
        "\n",
        "Define una función que reciba una lista de números y calcule el promedio. Solicita al usuario 5 números, almacénalos en una lista, calcula el promedio usando la función e imprime el resultado.\n",
        "\n",
        "**Espacio para tu código:**"
      ]
    },
    {
      "cell_type": "code",
      "execution_count": 20,
      "id": "6ac8651e",
      "metadata": {
        "id": "6ac8651e",
        "colab": {
          "base_uri": "https://localhost:8080/"
        },
        "outputId": "421c10fd-74e2-408d-e747-b3b212ec8a45"
      },
      "outputs": [
        {
          "output_type": "stream",
          "name": "stdout",
          "text": [
            "Ingrese el número 1: 56\n",
            "Ingrese el número 2: 4\n",
            "Ingrese el número 3: 2\n",
            "Ingrese el número 4: 46\n",
            "Ingrese el número 5: 3\n",
            "El promedio de los números ingresados es: 22.2\n"
          ]
        }
      ],
      "source": [
        "# Solicitaremos 5 numeros  y almacenaremos en una lista para mostrar el promedio\n",
        "Lista_Numeros = []\n",
        "for i in range(5):\n",
        "    numero = int(input(f\"Ingrese el número {i+1}: \"))\n",
        "    Lista_Numeros.append(numero)  # Agregamos el número a la lista\n",
        "\n",
        "# Calculamos el promedio\n",
        "promedio = sum(Lista_Numeros) / len(Lista_Numeros)\n",
        "\n",
        "# imprimimos el resultado\n",
        "print(f\"El promedio de los números ingresados es: {promedio}\")\n",
        "\n"
      ]
    },
    {
      "cell_type": "markdown",
      "id": "65bbe5fa",
      "metadata": {
        "id": "65bbe5fa"
      },
      "source": [
        "### 5. Ciclos y Bucles\n",
        "\n",
        "Escribe un programa que imprima los números del 1 al 100, pero:\n",
        "- Si un número es múltiplo de 3, imprime 'Fizz'.\n",
        "- Si un número es múltiplo de 5, imprime 'Buzz'.\n",
        "- Si es múltiplo de ambos, imprime 'FizzBuzz'.\n",
        "\n",
        "**Espacio para tu código:**"
      ]
    },
    {
      "cell_type": "code",
      "execution_count": 26,
      "id": "6f29390e",
      "metadata": {
        "id": "6f29390e",
        "colab": {
          "base_uri": "https://localhost:8080/"
        },
        "outputId": "364c32ae-b07b-45f8-db27-319ae255074e"
      },
      "outputs": [
        {
          "output_type": "stream",
          "name": "stdout",
          "text": [
            "1\n",
            "2\n",
            "FizzBuzz\n",
            "4\n",
            "Buzz\n",
            "FizzBuzz\n",
            "7\n",
            "8\n",
            "FizzBuzz\n",
            "Buzz\n",
            "11\n",
            "FizzBuzz\n",
            "13\n",
            "14\n",
            "FizzBuzz\n",
            "16\n",
            "17\n",
            "FizzBuzz\n",
            "19\n",
            "Buzz\n",
            "FizzBuzz\n",
            "22\n",
            "23\n",
            "FizzBuzz\n",
            "Buzz\n",
            "26\n",
            "FizzBuzz\n",
            "28\n",
            "29\n",
            "FizzBuzz\n",
            "31\n",
            "32\n",
            "FizzBuzz\n",
            "34\n",
            "Buzz\n",
            "FizzBuzz\n",
            "37\n",
            "38\n",
            "FizzBuzz\n",
            "Buzz\n",
            "41\n",
            "FizzBuzz\n",
            "43\n",
            "44\n",
            "FizzBuzz\n",
            "46\n",
            "47\n",
            "FizzBuzz\n",
            "49\n",
            "Buzz\n",
            "FizzBuzz\n",
            "52\n",
            "53\n",
            "FizzBuzz\n",
            "Buzz\n",
            "56\n",
            "FizzBuzz\n",
            "58\n",
            "59\n",
            "FizzBuzz\n",
            "61\n",
            "62\n",
            "FizzBuzz\n",
            "64\n",
            "Buzz\n",
            "FizzBuzz\n",
            "67\n",
            "68\n",
            "FizzBuzz\n",
            "Buzz\n",
            "71\n",
            "FizzBuzz\n",
            "73\n",
            "74\n",
            "FizzBuzz\n",
            "76\n",
            "77\n",
            "FizzBuzz\n",
            "79\n",
            "Buzz\n",
            "FizzBuzz\n",
            "82\n",
            "83\n",
            "FizzBuzz\n",
            "Buzz\n",
            "86\n",
            "FizzBuzz\n",
            "88\n",
            "89\n",
            "FizzBuzz\n",
            "91\n",
            "92\n",
            "FizzBuzz\n",
            "94\n",
            "Buzz\n",
            "FizzBuzz\n",
            "97\n",
            "98\n",
            "FizzBuzz\n",
            "Buzz\n"
          ]
        }
      ],
      "source": [
        "# imprimieremos los numeros del 1 al 100 con los\n",
        "for i in range(1, 101):\n",
        "    if i % 3 == 0 & i % 5 == 0:\n",
        "      print(\"FizzBuzz\")\n",
        "    elif i % 3 == 0:\n",
        "      print(\"Fizz\")\n",
        "    elif i % 5 == 0:\n",
        "      print(\"Buzz\")\n",
        "    else:\n",
        "      print(i)\n",
        ""
      ]
    },
    {
      "cell_type": "markdown",
      "id": "b00c70f3",
      "metadata": {
        "id": "b00c70f3"
      },
      "source": [
        "### 6. Proyecto Final: Sistema de Inventario\n",
        "\n",
        "Escribe un programa que gestione un inventario utilizando un diccionario. El programa debe:\n",
        "1. Permitir agregar productos con su cantidad.\n",
        "2. Actualizar la cantidad de un producto existente.\n",
        "3. Eliminar un producto del inventario.\n",
        "4. Mostrar todos los productos y sus cantidades.\n",
        "5. Salir del programa.\n",
        "\n",
        "El programa debe mostrar un menú interactivo para que el usuario seleccione una opción.\n",
        "\n",
        "**Espacio para tu código:**"
      ]
    },
    {
      "cell_type": "code",
      "execution_count": null,
      "id": "298f2a53",
      "metadata": {
        "id": "298f2a53",
        "colab": {
          "base_uri": "https://localhost:8080/"
        },
        "outputId": "a1b7fee6-3dbc-4ab2-a94e-af74cccc3d8d"
      },
      "outputs": [
        {
          "output_type": "stream",
          "name": "stdout",
          "text": [
            "Menú de opciones:\n",
            "1. Agregar producto\n",
            "2. Actualizar cantidad de producto\n",
            "3. Eliminar producto\n",
            "4. Mostrar inventario\n",
            "5. Salir\n"
          ]
        }
      ],
      "source": [
        "# Creamos un diccionario vacío para almacenar los productos y sus cantidades.\n",
        "inventario = {}\n",
        "\n",
        "# Variable para controlar la ejecución del bucle\n",
        "continuar = True\n",
        "\n",
        "# Bucle principal que muestra el menú y permite seleccionar las opciones\n",
        "while continuar:\n",
        "    # Mostramos el menú de opciones\n",
        "    print(\"Menú de opciones:\")\n",
        "    print(\"1. Agregar producto\")  # Opción para agregar un nuevo producto.\n",
        "    print(\"2. Actualizar cantidad de producto\")  # Opción para actualizar la cantidad de un producto.\n",
        "    print(\"3. Eliminar producto\")  # Opción para eliminar un producto.\n",
        "    print(\"4. Mostrar inventario\")  # Opción para ver todos los productos y sus cantidades.\n",
        "    print(\"5. Salir\")  # Opción para salir del programa.\n",
        "\n",
        "    # Solicitamos al usuario que seleccione una opción\n",
        "    opcion = input(\"Seleccione una opción (1-5): \")\n",
        "\n",
        "    # Si el usuario selecciona la opción 1 (agregar producto)\n",
        "    if opcion == \"1\":\n",
        "        # Solicitamos al usuario el nombre del producto\n",
        "        producto = input(\"Ingrese el nombre del producto: \")\n",
        "        # Solicitamos la cantidad del producto y la convertimos a número entero\n",
        "        cantidad = int(input(f\"Ingrese la cantidad de {producto}: \"))\n",
        "        # Guardamos el producto y su cantidad en el diccionario inventario\n",
        "        inventario[producto] = cantidad\n",
        "        # Confirmamos que el producto fue agregado\n",
        "        print(f\"Producto {producto} agregado con cantidad {cantidad}.\")\n",
        "\n",
        "    # Si el usuario selecciona la opción 2 (actualizar producto)\n",
        "    elif opcion == \"2\":\n",
        "        # Solicitamos el nombre del producto que queremos actualizar\n",
        "        producto = input(\"Ingrese el nombre del producto a actualizar: \")\n",
        "        # Comprobamos si el producto existe en el inventario\n",
        "        if producto in inventario:\n",
        "            # Solicitamos la nueva cantidad para el producto\n",
        "            cantidad = int(input(f\"Ingrese la nueva cantidad de {producto}: \"))\n",
        "            # Actualizamos la cantidad del producto en el inventario\n",
        "            inventario[producto] = cantidad\n",
        "            # Confirmamos que el producto fue actualizado\n",
        "            print(f\"La cantidad de {producto} ha sido actualizada a {cantidad}.\")\n",
        "        else:\n",
        "            # Si el producto no existe, mostramos un mensaje de error\n",
        "            print(f\"El producto {producto} no está en el inventario.\")\n",
        "\n",
        "    # Si el usuario selecciona la opción 3 (eliminar producto)\n",
        "    elif opcion == \"3\":\n",
        "        # Solicitamos el nombre del producto que queremos eliminar\n",
        "        producto = input(\"Ingrese el nombre del producto a eliminar: \")\n",
        "        # Comprobamos si el producto existe en el inventario\n",
        "        if producto in inventario:\n",
        "            # Eliminamos el producto del inventario\n",
        "            del inventario[producto]\n",
        "            # Confirmamos que el producto fue eliminado\n",
        "            print(f\"Producto {producto} eliminado del inventario.\")\n",
        "        else:\n",
        "            # Si el producto no existe, mostramos un mensaje de error\n",
        "            print(f\"El producto {producto} no está en el inventario.\")\n",
        "\n",
        "    # Si el usuario selecciona la opción 4 (mostrar inventario)\n",
        "    elif opcion == \"4\":\n",
        "        # Comprobamos si el inventario tiene productos\n",
        "        if inventario:\n",
        "            # Imprimimos todos los productos y sus cantidades\n",
        "            print(\"Inventario:\")\n",
        "            for producto, cantidad in inventario.items():\n",
        "                print(f\"{producto}: {cantidad}\")\n",
        "        else:\n",
        "            # Si el inventario está vacío, mostramos un mensaje\n",
        "            print(\"El inventario está vacío.\")\n",
        "\n",
        "    # Si el usuario selecciona la opción 5 (salir del programa)\n",
        "    elif opcion == \"5\":\n",
        "        print(\"Saliendo del programa...\")  # Mensaje de salida\n",
        "        continuar = False  # Cambiamos la variable para terminar el bucle\n",
        "\n",
        "    # Si el usuario selecciona una opción inválida\n",
        "    else:\n",
        "        print(\"Opción inválida, por favor seleccione una opción válida (1-5).\")\n"
      ]
    },
    {
      "cell_type": "code",
      "source": [],
      "metadata": {
        "id": "_qyVROb8zuua"
      },
      "id": "_qyVROb8zuua",
      "execution_count": null,
      "outputs": []
    }
  ],
  "metadata": {
    "colab": {
      "provenance": [],
      "include_colab_link": true
    },
    "language_info": {
      "name": "python"
    },
    "kernelspec": {
      "name": "python3",
      "display_name": "Python 3"
    }
  },
  "nbformat": 4,
  "nbformat_minor": 5
}