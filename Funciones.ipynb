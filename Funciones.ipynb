{
  "nbformat": 4,
  "nbformat_minor": 0,
  "metadata": {
    "colab": {
      "provenance": []
    },
    "kernelspec": {
      "name": "python3",
      "display_name": "Python 3"
    },
    "language_info": {
      "name": "python"
    }
  },
  "cells": [
    {
      "cell_type": "markdown",
      "source": [],
      "metadata": {
        "id": "ChGRlQ5wbTrC"
      }
    },
    {
      "cell_type": "markdown",
      "source": [
        "**INTRODUCCIÓN A PYTHON**\n",
        "Condiciones, funciones y manejo de erreros\n",
        "\n",
        "DIPLOMADO EN GOBIERNO Y ANALITICA DE DATOS\n",
        "\n",
        "FUNDACION UNIVERSITARIA CAFAM\n",
        "\n",
        "DOCENTE: NICOLAS MOJICA GOMEZ\n",
        "\n",
        "ESTUDIANTE: YESITH AGUAS JIMENEZ\n",
        "\n",
        "\n",
        "\n",
        "---"
      ],
      "metadata": {
        "id": "uGiXK0WXbWg4"
      }
    },
    {
      "cell_type": "code",
      "execution_count": 2,
      "metadata": {
        "colab": {
          "base_uri": "https://localhost:8080/"
        },
        "id": "O780XmexbPoa",
        "outputId": "9a36bc2f-fd91-4088-cfed-a15df7a4e184"
      },
      "outputs": [
        {
          "output_type": "stream",
          "name": "stdout",
          "text": [
            "Eres mayor de edad\n"
          ]
        }
      ],
      "source": [
        "## las condicones ....\n",
        "Edad=18\n",
        "#crear una conicion que identifique si la persona es mayor o menor de edad\n",
        "if Edad <18:\n",
        "  print(\"Eres menor de edad\")\n",
        "else :\n",
        "  print(\"Eres mayor de edad\")"
      ]
    },
    {
      "cell_type": "code",
      "source": [
        "#generar un programa que clasifica la edad introducida por el susuario entre mayor y menor de edad\n",
        "Edad=int(input(\"Por favor ingresa tu edad\"))\n",
        "if Edad <18:\n",
        "  print(\"Eres menor de edad\")\n",
        "else :\n",
        "  print(\"Eres mayor de edad\")"
      ],
      "metadata": {
        "colab": {
          "base_uri": "https://localhost:8080/"
        },
        "id": "aZl9pn0kb7k-",
        "outputId": "4523811f-f780-4baf-ce5f-b397a3cc490d"
      },
      "execution_count": 5,
      "outputs": [
        {
          "output_type": "stream",
          "name": "stdout",
          "text": [
            "Por favor ingresa tu edad28\n",
            "Eres mayor de edad\n"
          ]
        }
      ]
    },
    {
      "cell_type": "code",
      "source": [
        "#Contuya un programa que al ingresar la nota del usuaruio lo clasifique en:\n",
        "#No aprobado<60, >=900 clasificacion a, >=80 clasificacion C, otros clasificacion c\n",
        "Nota = int(input(\"Ingresa su nota\"))\n",
        "if Nota >60:\n",
        "  if Nota >=90 :\n",
        "    print(\"clasificacion A\")\n",
        "  elif Nota >=80:\n",
        "    print(\"clasificacion B\")\n",
        "  else:\n",
        "    print(\"clasificacion C\")\n",
        "else :\n",
        "  print(\"No aprobado\")"
      ],
      "metadata": {
        "colab": {
          "base_uri": "https://localhost:8080/"
        },
        "id": "eQz7VY73dBr_",
        "outputId": "08e9560b-e2f4-4a41-f4d9-623426fe3d2c"
      },
      "execution_count": 13,
      "outputs": [
        {
          "output_type": "stream",
          "name": "stdout",
          "text": [
            "Ingresa su nota34\n",
            "No aprobado\n"
          ]
        }
      ]
    },
    {
      "cell_type": "code",
      "source": [
        "\"\"\"\n",
        "Comparaciones\n",
        "Las condiciones en las sentencias condicionales suelen involucrar operadores de comparación:\n",
        "\n",
        "- == (igual a)\n",
        "- != (diferente de)\n",
        "- > (mayor que)\n",
        "- < (menor que)\n",
        "- >= (mayor o igual que)\n",
        "- <= (menor o igual que)\n",
        "\"\"\"\n",
        ""
      ],
      "metadata": {
        "id": "OlHzXfD5fayf"
      },
      "execution_count": null,
      "outputs": []
    },
    {
      "cell_type": "code",
      "source": [
        "Escribe un programa que verifique si un número ingresado por el usuario es par o impar."
      ],
      "metadata": {
        "id": "y9zz-m9YjisX"
      },
      "execution_count": null,
      "outputs": []
    },
    {
      "cell_type": "code",
      "source": [
        "def comparar_numeros():\n",
        "    # Solicitar al usuario que ingrese dos números\n",
        "    try:\n",
        "        numero1 = int(input(\"Ingresa el primer número: \"))\n",
        "        numero2 = int(input(\"Ingresa el segundo número: \"))\n",
        "\n",
        "        # Comparar los números y mostrar el resultado\n",
        "        if numero1 > numero2:\n",
        "            print(f\"El número {numero1} es mayor que {numero2}.\")\n",
        "        elif numero1 < numero2:\n",
        "            print(f\"El número {numero1} es menor que {numero2}.\")\n",
        "        else:\n",
        "            print(f\"Ambos números son iguales ({numero1}).\")\n",
        "\n",
        "    except ValueError:\n",
        "        print(\"Por favor, ingresa valores numéricos válidos.\")\n",
        "\n",
        "# Ejecutar la función\n",
        "if __name__ == \"__main__\":4\n",
        "    comparar_numeros()"
      ],
      "metadata": {
        "colab": {
          "base_uri": "https://localhost:8080/"
        },
        "id": "vk-Rhtnnjoja",
        "outputId": "64e5a6c1-0fa4-45ba-a47b-6045f9842347"
      },
      "execution_count": 17,
      "outputs": [
        {
          "output_type": "stream",
          "name": "stdout",
          "text": [
            "Ingresa el primer número: 4\n",
            "Ingresa el segundo número: \n",
            "Por favor, ingresa valores numéricos válidos.\n"
          ]
        }
      ]
    },
    {
      "cell_type": "code",
      "source": [
        "def clasificar_edad():\n",
        "    try:\n",
        "        # Solicitar la edad al usuario\n",
        "        edad = int(input(\"Ingresa tu edad: \"))\n",
        "\n",
        "        # Clasificar según la edad\n",
        "        if edad < 0:\n",
        "            print(\"La edad no puede ser negativa.\")\n",
        "        elif edad <= 12:\n",
        "            print(\"Eres un Niño.\")\n",
        "        elif edad <= 17:\n",
        "            print(\"Eres un Adolescente.\")\n",
        "        elif edad <= 64:\n",
        "            print(\"Eres un Adulto.\")\n",
        "        else:\n",
        "            print(\"Eres un Anciano.\")\n",
        "\n",
        "    except ValueError:\n",
        "        print(\"Por favor, ingresa un número válido.\")\n",
        "\n",
        "# Ejecutar la función\n",
        "if __name__ == \"__main__\":\n",
        "    clasificar_edad()"
      ],
      "metadata": {
        "id": "ZdZyo4Y1qjDY"
      },
      "execution_count": null,
      "outputs": []
    },
    {
      "cell_type": "markdown",
      "source": [
        "#Funciones\n"
      ],
      "metadata": {
        "id": "uHJMI8MotkKI"
      }
    },
    {
      "cell_type": "code",
      "source": [
        "#Bloque de codigos, que de pueden utilizar para una tarea en espesifico!!!"
      ],
      "metadata": {
        "id": "wDh_pE-Gtl21"
      },
      "execution_count": 19,
      "outputs": []
    },
    {
      "cell_type": "code",
      "source": [
        "#Tengo la funcion linear y =mx+b\n",
        "#deseoo evaluar el valor de x =5 en la funcion  y=4x+7\n",
        "def funcion_lineal (x) :\n",
        "    variable = x\n",
        "    y=(4*variable)+7\n",
        "    z=print(f\"El valor de y es : {y}.\")\n",
        "    return z\n",
        "funcion_lineal(5)"
      ],
      "metadata": {
        "colab": {
          "base_uri": "https://localhost:8080/"
        },
        "id": "viN0E76gtynb",
        "outputId": "8253d0d4-1650-4c09-ee1f-88bfaec677b0"
      },
      "execution_count": 22,
      "outputs": [
        {
          "output_type": "stream",
          "name": "stdout",
          "text": [
            "El valor de y es : 27.\n"
          ]
        }
      ]
    },
    {
      "cell_type": "code",
      "source": [
        "def suma(a,b):\n",
        "  return a+b\n",
        "print (suma(2,2))"
      ],
      "metadata": {
        "colab": {
          "base_uri": "https://localhost:8080/"
        },
        "id": "5G8N9dHzzc2v",
        "outputId": "c0c7589b-746d-48ba-e930-0ccbc8a38389"
      },
      "execution_count": 23,
      "outputs": [
        {
          "output_type": "stream",
          "name": "stdout",
          "text": [
            "4\n"
          ]
        }
      ]
    },
    {
      "cell_type": "code",
      "source": [
        "def verificar_mayoria_edad(edad):\n",
        "    if edad < 0:\n",
        "        return \"La edad no puede ser negativa.\"\n",
        "    elif edad >= 18:\n",
        "        return \"Eres mayor de edad.\"\n",
        "    else:\n",
        "        return \"Eres menor de edad.\"\n",
        "\n",
        "if __name__ == \"__main__\":\n",
        "    try:\n",
        "        edad_usuario = int(input(\"Ingresa tu edad: \"))\n",
        "        print(verificar_mayoria_edad(edad_usuario))\n",
        "    except ValueError:\n",
        "        print(\"Por favor, ingresa un número válido.\")"
      ],
      "metadata": {
        "colab": {
          "base_uri": "https://localhost:8080/"
        },
        "id": "4VuycOnR0ShY",
        "outputId": "525c135e-a097-403a-b2aa-1c921eed1f80"
      },
      "execution_count": 26,
      "outputs": [
        {
          "output_type": "stream",
          "name": "stdout",
          "text": [
            "Ingresa tu edad: 23\n",
            "Eres mayor de edad.\n"
          ]
        }
      ]
    },
    {
      "cell_type": "code",
      "source": [
        "def saludar_por_nombre():\n",
        "    nombre = input(\"Ingresa tu nombre: \")\n",
        "    print(f\"Hola, {nombre}! Es un gusto saludarte.\")\n",
        "\n",
        "if __name__ == \"__main__\":\n",
        "    saludar_por_nombre()\n"
      ],
      "metadata": {
        "colab": {
          "base_uri": "https://localhost:8080/"
        },
        "id": "dZgbhhd-Oe1h",
        "outputId": "ccdce18b-82dc-4f78-cca5-d3b9c156043e"
      },
      "execution_count": 1,
      "outputs": [
        {
          "output_type": "stream",
          "name": "stdout",
          "text": [
            "Ingresa tu nombre: Yesith \n",
            "Hola, Yesith ! Es un gusto saludarte.\n"
          ]
        }
      ]
    },
    {
      "cell_type": "code",
      "source": [
        "def saludar_y_verificar_edad():\n",
        "    nombre = input(\"Ingresa tu nombre: \")\n",
        "    print(f\"Hola, {nombre}! Es un gusto saludarte.\")\n",
        "\n",
        "    try:\n",
        "        edad = int(input(\"Ingresa tu edad: \"))\n",
        "        if edad < 0:\n",
        "            print(\"La edad no puede ser negativa.\")\n",
        "        elif edad >= 18:\n",
        "            print(\"Eres mayor de edad.\")\n",
        "        else:\n",
        "            print(\"Eres menor de edad.\")\n",
        "    except ValueError:\n",
        "        print(\"Por favor, ingresa un número válido.\")\n",
        "\n",
        "if __name__ == \"__main__\":\n",
        "    saludar_y_verificar_edad()"
      ],
      "metadata": {
        "colab": {
          "base_uri": "https://localhost:8080/"
        },
        "id": "D4JYnXAHQyXs",
        "outputId": "6cefcef0-3b0b-4d05-fb39-0f4a6190b052"
      },
      "execution_count": 2,
      "outputs": [
        {
          "output_type": "stream",
          "name": "stdout",
          "text": [
            "Ingresa tu nombre: tao\n",
            "Hola, tao! Es un gusto saludarte.\n",
            "Ingresa tu edad: 13\n",
            "Eres menor de edad.\n"
          ]
        }
      ]
    },
    {
      "cell_type": "code",
      "source": [
        "def verificar_contraseña(contraseña):\n",
        "    contraseña_predeterminada = \"secreta123\"\n",
        "    if contraseña == contraseña_predeterminada:\n",
        "        return \"Contraseña correcta.\"\n",
        "    else:\n",
        "        return \"Contraseña incorrecta.\"\n",
        "\n",
        "if __name__ == \"__main__\":\n",
        "    contraseña_ingresada = input(\"Ingresa tu contraseña: \")\n",
        "    print(verificar_contraseña(contraseña_ingresada))"
      ],
      "metadata": {
        "colab": {
          "base_uri": "https://localhost:8080/"
        },
        "id": "cw7AUhKzUVsC",
        "outputId": "ded1f2e7-ef09-4549-da83-2c0a4e56bec2"
      },
      "execution_count": 3,
      "outputs": [
        {
          "output_type": "stream",
          "name": "stdout",
          "text": [
            "Ingresa tu contraseña: sfdjnds\n",
            "Contraseña incorrecta.\n"
          ]
        }
      ]
    }
  ]
}